{
  "nbformat": 4,
  "nbformat_minor": 0,
  "metadata": {
    "colab": {
      "name": "ПР№4",
      "provenance": [],
      "authorship_tag": "ABX9TyPaleV3df5Ey9IrgVnb78Sh",
      "include_colab_link": true
    },
    "kernelspec": {
      "name": "python3",
      "display_name": "Python 3"
    },
    "language_info": {
      "name": "python"
    }
  },
  "cells": [
    {
      "cell_type": "markdown",
      "metadata": {
        "id": "view-in-github",
        "colab_type": "text"
      },
      "source": [
        "<a href=\"https://colab.research.google.com/github/egorsnezhko/--211/blob/main/%D0%9F%D0%A0%E2%84%964.ipynb\" target=\"_parent\"><img src=\"https://colab.research.google.com/assets/colab-badge.svg\" alt=\"Open In Colab\"/></a>"
      ]
    },
    {
      "cell_type": "code",
      "metadata": {
        "id": "DhdEUzR4DxFz",
        "colab": {
          "base_uri": "https://localhost:8080/"
        },
        "outputId": "c26cfc8e-3d40-4dc5-b0a3-f2a5212e0fc0"
      },
      "source": [
        "class Animal:\n",
        "  def __init__(self, name, season, color, size_in_kg):\n",
        "    self.name = name\n",
        "    self.season = season\n",
        "    self.color = color\n",
        "    self.size_in_kg = size_in_kg\n",
        "  \n",
        "  def what_is_your_name(self):\n",
        "    print(\"I am brave {}.\".format(self.name))\n",
        "\n",
        "  def are_you_big(self):\n",
        "    if self.size_in_kg > 30:\n",
        "      print(\"I am big {}.\".format(self.name))\n",
        "    else:\n",
        "      print(\"I am little {}.\".format(self.name))\n",
        "\n",
        "  def which_is_your_fav_season(self):\n",
        "    print(\"Oh, I love {}.\".format(self.season))\n",
        "  \n",
        "class Mammals(Animal):\n",
        "\n",
        "  def which_is_your_fav_season(self):\n",
        "    print(\"I love only summer!\")\n",
        "\n",
        "  def do_you_have_wight_wool(self):\n",
        "    if self.color == \"wight\":\n",
        "      print(\"Yes! I am pretty god.\")\n",
        "    else:\n",
        "      print(\"No :(\")\n",
        "\n",
        "class Bird(Animal):\n",
        "\n",
        "  def are_you_big(self):\n",
        "    if self.size_in_kg > 10:\n",
        "      print(\"I am big bird.\")\n",
        "    else:\n",
        "      print(\"I am little bird.\")\n",
        "\n",
        "  def you_season(self):\n",
        "    if self.season == \"summer\" or self.season == \"sprang\":\n",
        "      print(\"O, you are migratory!\")\n",
        "    else:\n",
        "      print(\"O, you are a tough nut!\")\n",
        "\n",
        "class Artiodactyls(Mammals):\n",
        "\n",
        "  def is_thick_coat(self):\n",
        "    if self.season == \"winter\":\n",
        "      print(\"Yes,  my coat is thick!\")\n",
        "    else:\n",
        "      print(\"Oh, it's a shame!\")\n",
        "\n",
        "  def which_is_your_fav_season(self):\n",
        "    print(\"I love autumn and spring!\")\n",
        "\n",
        "Animal1 = Animal(\"Jerboa\",\"summer\",\"brown\",5)\n",
        "Animal1.what_is_your_name()\n",
        "Animal1.are_you_big()\n",
        "Animal2 = Artiodactyls(\"Giraffe\",\"summer\",\"brown in a speck\", 678)\n",
        "Animal2.are_you_big()\n",
        "Animal2.do_you_have_wight_wool()\n",
        "Animal2.which_is_your_fav_season()\n",
        "Animal2.is_thick_coat()\n",
        "Animal3 = Mammals(\"Raccoon\", \"spring\",\"Gray\", 11)\n",
        "Animal3.what_is_your_name()\n",
        "Animal3.do_you_have_wight_wool()\n",
        "Animal4 = Bird(\"Eagle\",\"Autumn\",\"white/brown\",7)\n",
        "Animal4.are_you_big()"
      ],
      "execution_count": 22,
      "outputs": [
        {
          "output_type": "stream",
          "name": "stdout",
          "text": [
            "I am brave Jerboa.\n",
            "I am little Jerboa.\n",
            "I am big Giraffe.\n",
            "No :(\n",
            "I love autumn and spring!\n",
            "Oh, it's a shame!\n",
            "I am brave Raccoon.\n",
            "No :(\n",
            "I am little bird.\n"
          ]
        }
      ]
    }
  ]
}