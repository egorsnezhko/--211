{
  "nbformat": 4,
  "nbformat_minor": 0,
  "metadata": {
    "colab": {
      "name": "ЛАБ3",
      "provenance": [],
      "collapsed_sections": [],
      "authorship_tag": "ABX9TyOrafxSsDkhIOhNC2DRWmnx",
      "include_colab_link": true
    },
    "kernelspec": {
      "name": "python3",
      "display_name": "Python 3"
    },
    "language_info": {
      "name": "python"
    }
  },
  "cells": [
    {
      "cell_type": "markdown",
      "metadata": {
        "id": "view-in-github",
        "colab_type": "text"
      },
      "source": [
        "<a href=\"https://colab.research.google.com/github/egorsnezhko/--211/blob/main/%D0%9B%D0%90%D0%913.ipynb\" target=\"_parent\"><img src=\"https://colab.research.google.com/assets/colab-badge.svg\" alt=\"Open In Colab\"/></a>"
      ]
    },
    {
      "cell_type": "markdown",
      "metadata": {
        "id": "cbLRlpPFZT4u"
      },
      "source": [
        ""
      ]
    },
    {
      "cell_type": "markdown",
      "metadata": {
        "id": "tuOCeGmaKxmK"
      },
      "source": [
        "№ 3.2.1"
      ]
    },
    {
      "cell_type": "code",
      "metadata": {
        "colab": {
          "base_uri": "https://localhost:8080/"
        },
        "id": "kDbrPz1PK4JH",
        "outputId": "2cc17c67-3a7d-43c4-bdfa-446aedda1d96"
      },
      "source": [
        "# Задание task_03_02_01.\n",
        "#\n",
        "# Выполнил: Снежко Е.А\n",
        "# Группа: АДЭУ-211\n",
        "# Эл. адрес: egor.snezhkosnezhko@gmail.com\n",
        "\n",
        "\n",
        "a = int(input(\"a=\"))\n",
        "b = int(input(\"b=\"))\n",
        "\n",
        "print (a+b)\n",
        "print (a-b)\n",
        "print (a*b)\n",
        "print (round(a/b,2))\n",
        "print (a//b)\n",
        "print (a%b)\n",
        "print (a**b)\n",
        "print (a<b)\n",
        "print (a<=b)\n",
        "print (a>b)\n",
        "print (a>=b)\n",
        "print (a!=b)\n",
        "print (a==b)\n",
        "\n"
      ],
      "execution_count": 38,
      "outputs": [
        {
          "output_type": "stream",
          "name": "stdout",
          "text": [
            "a=2\n",
            "b=7\n",
            "9\n",
            "-5\n",
            "14\n",
            "0.29\n",
            "0\n",
            "2\n",
            "128\n",
            "True\n",
            "True\n",
            "False\n",
            "False\n",
            "True\n",
            "False\n"
          ]
        }
      ]
    },
    {
      "cell_type": "markdown",
      "metadata": {
        "id": "UXnyO1-WOeLp"
      },
      "source": [
        "№ 3.2.2"
      ]
    },
    {
      "cell_type": "code",
      "metadata": {
        "id": "ZrSnzUBFOl-4"
      },
      "source": [
        ""
      ],
      "execution_count": null,
      "outputs": []
    },
    {
      "cell_type": "code",
      "metadata": {
        "colab": {
          "base_uri": "https://localhost:8080/"
        },
        "id": "ZzS9M2s2RIRM",
        "outputId": "e1aef672-8a58-40f2-e1d2-ac8432cdcb58"
      },
      "source": [
        "# Задание task_03_02_02.\n",
        "#\n",
        "# Выполнил: Снежко Е.А\n",
        "# Группа: АДЭУ-211\n",
        "# Эл. адрес: egor.snezhkosnezhko@gmail.com\n",
        "\n",
        "x =3\n",
        "y =8\n",
        "z =125\n",
        "\n",
        "res1  = ((x**5+7)/(abs(-6)*y))**(1/3)\n",
        "res2  = 7-(z%y)\n",
        "res3 = res1/res2\n",
        "print (round(res3,2))"
      ],
      "execution_count": 37,
      "outputs": [
        {
          "output_type": "stream",
          "name": "stdout",
          "text": [
            "0.87\n"
          ]
        }
      ]
    },
    {
      "cell_type": "markdown",
      "metadata": {
        "id": "vR5GFBNaVzlF"
      },
      "source": [
        "№ 3.2.3\n"
      ]
    },
    {
      "cell_type": "code",
      "metadata": {
        "colab": {
          "base_uri": "https://localhost:8080/"
        },
        "id": "8DpMg76iWDWx",
        "outputId": "f450fb73-9441-49e7-9caa-75fe6f0abc8e"
      },
      "source": [
        "# Задание task_03_02_03.\n",
        "#\n",
        "# Выполнил: Снежко Е.А\n",
        "# Группа: АДЭУ-211\n",
        "# Эл. адрес: egor.snezhkosnezhko@gmail.com\n",
        "\n",
        "r1 = 12.5\n",
        "r2 = 16.7\n",
        "r3 = r1 + r2\n",
        "print (round(r3,1 ))\n"
      ],
      "execution_count": 34,
      "outputs": [
        {
          "output_type": "stream",
          "name": "stdout",
          "text": [
            "29.2\n"
          ]
        }
      ]
    },
    {
      "cell_type": "markdown",
      "metadata": {
        "id": "t0V1O4nAbkW-"
      },
      "source": [
        "№ 3.2.4"
      ]
    },
    {
      "cell_type": "code",
      "metadata": {
        "colab": {
          "base_uri": "https://localhost:8080/"
        },
        "id": "-pbcxZy5bp2Z",
        "outputId": "b8862082-13ac-4fca-aae3-ae3e73f12c83"
      },
      "source": [
        "# Задание task_03_02_03.\n",
        "#\n",
        "# Выполнил: Снежко Е.А\n",
        "# Группа: АДЭУ-211\n",
        "# Эл. адрес: egor.snezhkosnezhko@gmail.com\n",
        "\n",
        "num2 = 96\n",
        "num3 = 122\n",
        "num2_1 = 9\n",
        "num2_2 = 6\n",
        "num2_s = (num2_1+num2_2)\n",
        "num2_p = (num2_1*num2_2)\n",
        "num3_1 = 1\n",
        "num3_2 = 2\n",
        "num3_3 = 2\n",
        "num3_s = (num3_1*num3_2*num3_3)\n",
        "num3_p = (num3_1*num3_2*num3_3)\n",
        "\n",
        "print (num2_s)\n",
        "print (num2_p)\n",
        "print (num3_s)\n",
        "print (num3_p)\n",
        "\n"
      ],
      "execution_count": 39,
      "outputs": [
        {
          "output_type": "stream",
          "name": "stdout",
          "text": [
            "15\n",
            "54\n",
            "4\n",
            "4\n"
          ]
        }
      ]
    },
    {
      "cell_type": "markdown",
      "metadata": {
        "id": "qWO-lut4fP_w"
      },
      "source": [
        "№ 3.2.5"
      ]
    },
    {
      "cell_type": "code",
      "metadata": {
        "colab": {
          "base_uri": "https://localhost:8080/"
        },
        "id": "a0bVeia0fSud",
        "outputId": "8a60f63a-bbbc-4921-ad62-f47de2b95afc"
      },
      "source": [
        "# Задание task_03_02_05.\n",
        "#\n",
        "# Выполнил: Снежко Е.А\n",
        "# Группа: АДЭУ-211\n",
        "# Эл. адрес: egor.snezhkosnezhko@gmail.com\n",
        "\n",
        "m = int(input(\"m=\"))\n",
        "m2 = m//60\n",
        "h = m%60\n",
        "print(m)\n",
        "print(m2)\n",
        "print(h)"
      ],
      "execution_count": 16,
      "outputs": [
        {
          "output_type": "stream",
          "name": "stdout",
          "text": [
            "m=368\n",
            "368\n",
            "6\n",
            "8\n"
          ]
        }
      ]
    },
    {
      "cell_type": "markdown",
      "metadata": {
        "id": "hpSXO-8C7jBk"
      },
      "source": [
        "№ 3.2.6"
      ]
    },
    {
      "cell_type": "code",
      "metadata": {
        "colab": {
          "base_uri": "https://localhost:8080/"
        },
        "id": "r_Q4_ioD7pJG",
        "outputId": "12a847b8-5a21-444e-9532-53af51091933"
      },
      "source": [
        "# Задание task_03_02_06.\n",
        "#\n",
        "# Выполнил: Снежко Е.А\n",
        "# Группа: АДЭУ-211\n",
        "# Эл. адрес: egor.snezhkosnezhko@gmail.com\n",
        "\n",
        "a = 10\n",
        "b =  -20\n",
        "m = -6\n",
        "n = 5\n",
        "x = -b/a\n",
        "if x >= m and x <= n :\n",
        "  print(\"True\")\n",
        "else:\n",
        "  print(\"False\")\n",
        "\n",
        "\n"
      ],
      "execution_count": 87,
      "outputs": [
        {
          "output_type": "stream",
          "name": "stdout",
          "text": [
            "True\n"
          ]
        }
      ]
    },
    {
      "cell_type": "markdown",
      "metadata": {
        "id": "1kgKenbzt-EL"
      },
      "source": [
        "№ 3.2.7"
      ]
    },
    {
      "cell_type": "code",
      "metadata": {
        "colab": {
          "base_uri": "https://localhost:8080/"
        },
        "id": "_rRSy_gouCi6",
        "outputId": "ab7f5bbb-60f3-4a31-eb38-ae33816a3fa0"
      },
      "source": [
        "# Задание task_03_02_07.\n",
        "#\n",
        "# Выполнил: Снежко Е.А\n",
        "# Группа: АДЭУ-211\n",
        "# Эл. адрес: egor.snezhkosnezhko@gmail.com\n",
        "\n",
        "team = input(\"Введите название команды:\")\n",
        "print(team, \"- чемпион!\")\n",
        "print(\"-\"*len(team))\n",
        "print('Буква \"n\" есть:', \"п\" in team)\n",
        "print('Количесвто букв \"а\":', team.find('а'))\n",
        "\n"
      ],
      "execution_count": 15,
      "outputs": [
        {
          "output_type": "stream",
          "name": "stdout",
          "text": [
            "Введите название команды:Спартак\n",
            "Спартак - чемпион!\n",
            "-------\n",
            "Буква \"n\" есть: True\n",
            "Количесвто букв \"а\": 2\n"
          ]
        }
      ]
    },
    {
      "cell_type": "markdown",
      "metadata": {
        "id": "Tpg-pGDfR2YD"
      },
      "source": [
        "№ 3.2.9"
      ]
    },
    {
      "cell_type": "code",
      "metadata": {
        "colab": {
          "base_uri": "https://localhost:8080/"
        },
        "id": "xnfECL_7R7Vv",
        "outputId": "746b547b-fe3c-4a2c-9029-a58e351f59f5"
      },
      "source": [
        "# Задание task_03_02_09.\n",
        "#\n",
        "# Выполнил: Снежко Е.А\n",
        "# Группа: АДЭУ-211\n",
        "# E-mail: egor.snezhkosnezhko@gmail.com\n",
        "\n",
        "word = \"объектно-ориентированный\"\n",
        "w1 = word[:6]\n",
        "w2 = word[9:17]\n",
        "w3 = word[14:17]\n",
        "w4 = word[4]+word[7]+word[5]\n",
        "w5 = word[10]+word[3]+word[6]+word[5]+word[19]\n",
        "print(w1, w2, w3, w4, w5, sep=\"\\n\" )"
      ],
      "execution_count": 63,
      "outputs": [
        {
          "output_type": "stream",
          "name": "stdout",
          "text": [
            "объект\n",
            "ориентир\n",
            "тир\n",
            "кот\n",
            "рента\n"
          ]
        }
      ]
    }
  ]
}