{
  "nbformat": 4,
  "nbformat_minor": 0,
  "metadata": {
    "colab": {
      "name": "ПР.4",
      "provenance": [],
      "authorship_tag": "ABX9TyNIX0RPO+UEBl6GrNjWC2kc",
      "include_colab_link": true
    },
    "kernelspec": {
      "name": "python3",
      "display_name": "Python 3"
    },
    "language_info": {
      "name": "python"
    }
  },
  "cells": [
    {
      "cell_type": "markdown",
      "metadata": {
        "id": "view-in-github",
        "colab_type": "text"
      },
      "source": [
        "<a href=\"https://colab.research.google.com/github/egorsnezhko/--211/blob/main/%D0%9F%D0%A0_4.ipynb\" target=\"_parent\"><img src=\"https://colab.research.google.com/assets/colab-badge.svg\" alt=\"Open In Colab\"/></a>"
      ]
    },
    {
      "cell_type": "code",
      "metadata": {
        "colab": {
          "base_uri": "https://localhost:8080/"
        },
        "id": "pv3CMZfAHHRk",
        "outputId": "c99eb7dc-6f93-4663-b77e-54f4b0611a1e"
      },
      "source": [
        "class Animal: \n",
        " \n",
        "  def __init__(self, name, habitat , color): \n",
        "    self.name = name \n",
        "    self.habitat = habitat\n",
        "    self.color = color \n",
        "\n",
        "  def what_is_your_name(self):\n",
        "    return self\n",
        "\n",
        "  def country(self): \n",
        "    return \"Страна обитания - {}.\".format(self.habitat)\n",
        "\n",
        "  def info(self):\n",
        "    return self\n",
        "\n",
        "  def __str__(self):\n",
        "    return (\"Название - {}, среда обитания - {}, окрас - {}.\".format(self.name, self.habitat, self.color))\n",
        "   \n",
        " \n",
        "class Mammals(Animal): \n",
        " \n",
        "  def __init__(self, name, season, color, teeth): \n",
        "    Animal.__init__(self, name, season, color)\n",
        "    self.teeth = teeth\n",
        "  \n",
        "  def country(self): \n",
        "    return \"Страна обитания млекопитающего - {}\".format(self.habitat)\n",
        " \n",
        "  def count_of_teeth(self): \n",
        "    return \"{} - зубов\".format(self.teeth)\n",
        "\n",
        "  def __str__(self):\n",
        "    return (\"Название - {}, среда обитания - {}, окрас - {}, кол-во зубов - {}.\".format(self.name, self.habitat, self.color, self.teeth))\n",
        " \n",
        "class Bird(Animal): \n",
        " \n",
        "  def __init__(self, name, season, color, sweep): \n",
        "    Animal.__init__(self, name, season, color) \n",
        "    self.sweep = sweep\n",
        "\n",
        "  def wingpson(self): \n",
        "    return \"Размах крыльев - {}\".format(self.sweep)\n",
        "   \n",
        "  def info(self):\n",
        "    return self\n",
        "\n",
        "  def __str__(self):\n",
        "    return (\"Название - {}, среда обитания - {}, окрас - {}, размах крыльев - {}.\".format(self.name, self.habitat, self.color, self.sweep))\n",
        " \n",
        "class Artiodactyls(Mammals): \n",
        " \n",
        "  def __init__(self, name, season, color, teeth, hoof): \n",
        "    Mammals.__init__(self, name, season, color, teeth)\n",
        "    self.hoof = hoof \n",
        "  \n",
        "  def hoof_thickness(self): \n",
        "    return \"Толщина копыта - {} см.\".format(self.hoof)\n",
        "\n",
        "  def count_of_teeth(self): \n",
        "    return \"{} - зубов\".format(self.teeth)\n",
        "\n",
        "  def info(self):\n",
        "    return self\n",
        "\n",
        "  def __str__(self):\n",
        "   return (\"Название - {}, среда обитания - {}, окрас - {}, количество зубов - {}, толщина копыта - {}.\".format(self.name, self.habitat, self.color, self.teeth, self.hoof))\n",
        "\n",
        "\n",
        "animal1 = Animal(\"Тушканчик\", \"Казахстан\", \"коричневый\")\n",
        "print(animal1.info())\n",
        "print(animal1.country())\n",
        "\n",
        "animal2 = Mammals(\"Броненосец\", \"Америка\",\"серый\", 90)\n",
        "print(animal2.info())\n",
        "print(animal2.country())\n",
        "\n",
        "animal3 = Bird(\"Пеликан\", \"Россия\",\"белый\", 300)\n",
        "print(animal3.info())\n",
        "print(animal3.country())\n",
        "\n",
        "animal4 = Artiodactyls(\"Лось\", \"Канада\", \"коричневый\", 32, 5)\n",
        "print(animal4.hoof_thickness())\n",
        "print(animal4.info())\n",
        "print(animal4.country())\n",
        "\n"
      ],
      "execution_count": 12,
      "outputs": [
        {
          "output_type": "stream",
          "name": "stdout",
          "text": [
            "Название - Тушканчик, среда обитания - Казахстан, окрас - коричневый.\n",
            "Страна обитания - Казахстан.\n",
            "Название - Броненосец, среда обитания - Америка, окрас - серый, кол-во зубов - 90.\n",
            "Страна обитания млекопитающего - Америка\n",
            "Название - Пеликан, среда обитания - Россия, окрас - белый, размах крыльев - 300.\n",
            "Страна обитания - Россия.\n",
            "Толщина копыта - 5 см.\n",
            "Название - Лось, среда обитания - Канада, окрас - коричневый, количество зубов - 32, толщина копыта - 5.\n",
            "Страна обитания млекопитающего - Канада\n"
          ]
        }
      ]
    }
  ]
}